{
 "cells": [
  {
   "cell_type": "markdown",
   "id": "465e990b-5f55-4e5c-921f-f3104d592ebb",
   "metadata": {},
   "source": [
    "## 1st Note "
   ]
  },
  {
   "cell_type": "code",
   "execution_count": 2,
   "id": "fbb1f3b6-fca5-4f72-8255-41585a7908f1",
   "metadata": {},
   "outputs": [],
   "source": [
    "import numpy as np"
   ]
  },
  {
   "cell_type": "code",
   "execution_count": 4,
   "id": "588c8dea-8a68-490c-82de-2e866ebc14ef",
   "metadata": {},
   "outputs": [
    {
     "name": "stdout",
     "output_type": "stream",
     "text": [
      "[1 2 3 4]\n",
      "<class 'numpy.ndarray'>\n",
      "1\n"
     ]
    }
   ],
   "source": [
    "arr = np.array([1, 2, 3, 4])\n",
    "print(arr)\n",
    "print(type(arr))\n",
    "print(arr.ndim)"
   ]
  },
  {
   "cell_type": "code",
   "execution_count": 6,
   "id": "4162685f-5995-4b52-adeb-4fd198a2415c",
   "metadata": {},
   "outputs": [
    {
     "name": "stdout",
     "output_type": "stream",
     "text": [
      "[[7.07377193e+194 6.96411093e+252 1.17573913e+214 4.70079872e+180]\n",
      " [5.54163447e+257 2.43567339e-152 6.02669615e+175 1.17573913e+214]\n",
      " [6.16283629e-095 1.94210363e+227 5.03439428e+180 1.48946069e-317]]\n"
     ]
    }
   ],
   "source": [
    "#creatinf empty array\n",
    "empty_array_2d = np.empty((3, 4))\n",
    "print(empty_array_2d)"
   ]
  },
  {
   "cell_type": "code",
   "execution_count": 30,
   "id": "a2f91666-04a6-4875-8ff7-d51c54bb677f",
   "metadata": {},
   "outputs": [
    {
     "name": "stdout",
     "output_type": "stream",
     "text": [
      "[[7 7 7 7]\n",
      " [7 7 7 7]]\n"
     ]
    }
   ],
   "source": [
    "import numpy as np\n",
    " \n",
    "full_array_2d = np.full((2, 4), 7)\n",
    "print(full_array_2d)\n"
   ]
  },
  {
   "cell_type": "code",
   "execution_count": 32,
   "id": "819ac0e0-dab0-4056-b646-814fd4914d23",
   "metadata": {},
   "outputs": [
    {
     "name": "stdout",
     "output_type": "stream",
     "text": [
      "Empty Array\n",
      "[[0 0 5 0]\n",
      " [2 0 1 0]\n",
      " [1 0 1 0]]\n",
      "\n",
      " Full Array\n",
      "[[55 55 55]\n",
      " [55 55 55]\n",
      " [55 55 55]]\n"
     ]
    }
   ],
   "source": [
    "import numpy as np\n",
    " \n",
    " \n",
    "# Create an empty array\n",
    "empa = np.empty((3, 4), dtype=int)\n",
    "print(\"Empty Array\")\n",
    "print(empa)\n",
    " \n",
    "# Create a full array\n",
    "flla = np.full((3, 3), 55, dtype=int)\n",
    "print(\"\\n Full Array\")\n",
    "print(flla)\n"
   ]
  },
  {
   "cell_type": "code",
   "execution_count": 8,
   "id": "aff96ba7-aba7-4be1-a462-669df4fa57fc",
   "metadata": {},
   "outputs": [
    {
     "name": "stdout",
     "output_type": "stream",
     "text": [
      "[0 0 0 0]\n"
     ]
    }
   ],
   "source": [
    "#array all eliment zero\n",
    "arr1=np.zeros(4,dtype=int)\n",
    "print(arr1)"
   ]
  },
  {
   "cell_type": "code",
   "execution_count": 34,
   "id": "2b1c40c2-49ba-4ba3-8d44-2a1c74d23f68",
   "metadata": {},
   "outputs": [
    {
     "name": "stdout",
     "output_type": "stream",
     "text": [
      "Matrix a : \n",
      " [0 0 0]\n",
      "\n",
      "Matrix b : \n",
      " [[0 0 0]\n",
      " [0 0 0]\n",
      " [0 0 0]]\n"
     ]
    }
   ],
   "source": [
    "import numpy as np\n",
    "a = np.zeros(3, dtype = int)  \n",
    "print(\"Matrix a : \\n\", a)  \n",
    "  \n",
    "b = np.zeros([3, 3], dtype = int)  \n",
    "print(\"\\nMatrix b : \\n\", b)"
   ]
  },
  {
   "cell_type": "code",
   "execution_count": 10,
   "id": "b7a8fcd8-0b1a-4bb2-80fa-65502a05c9bd",
   "metadata": {},
   "outputs": [
    {
     "name": "stdout",
     "output_type": "stream",
     "text": [
      "[1 1 1 1 1]\n"
     ]
    }
   ],
   "source": [
    "#array all eliment one\n",
    "arr2 = np.ones(5,dtype=int)\n",
    "print(arr2)"
   ]
  },
  {
   "cell_type": "code",
   "execution_count": 36,
   "id": "ba4f0bbf-2251-4147-9236-fef6b2c96d6d",
   "metadata": {},
   "outputs": [
    {
     "name": "stdout",
     "output_type": "stream",
     "text": [
      "[1. 1. 1. 1. 1.]\n",
      "Matrix a : \n",
      " [1 1 1]\n",
      "\n",
      "Matrix b : \n",
      " [[1 1 1]\n",
      " [1 1 1]\n",
      " [1 1 1]]\n"
     ]
    }
   ],
   "source": [
    "import numpy as np \n",
    "  \n",
    "array = np.ones(5) \n",
    "print(array)\n",
    "a = np.ones(3, dtype = int)  \n",
    "print(\"Matrix a : \\n\", a)  \n",
    "  \n",
    "b = np.ones([3, 3], dtype = int)  \n",
    "print(\"\\nMatrix b : \\n\", b) "
   ]
  },
  {
   "cell_type": "code",
   "execution_count": 16,
   "id": "de615933-8ec0-4813-8220-fcb3697e0e79",
   "metadata": {},
   "outputs": [
    {
     "name": "stdout",
     "output_type": "stream",
     "text": [
      "(4,)\n",
      "int32\n",
      "5\n"
     ]
    }
   ],
   "source": [
    "print(arr1.shape) # Returns a tuple indicating the array dimensions\n",
    "print(arr1.dtype)  # Shows the data type of the elements in the array\n",
    "print(arr2.size)  # Total number of elements in the array"
   ]
  },
  {
   "cell_type": "code",
   "execution_count": 12,
   "id": "f0dc6569-52f4-48ac-8210-13e7223086d4",
   "metadata": {},
   "outputs": [
    {
     "name": "stdout",
     "output_type": "stream",
     "text": [
      "[0.46873789 0.82939735 0.64114541 0.32371841 0.34467718]\n"
     ]
    }
   ],
   "source": [
    "#random number in array\n",
    "arr3 = np.random.rand(5)\n",
    "print(arr3)"
   ]
  },
  {
   "cell_type": "code",
   "execution_count": 14,
   "id": "ce76a357-51d1-4195-9d4a-02289aea8267",
   "metadata": {},
   "outputs": [
    {
     "name": "stdout",
     "output_type": "stream",
     "text": [
      "Given Array: [ 1  2  3  0 -1 -2]\n",
      "Max Element: 3\n",
      "Min Element: -2\n"
     ]
    }
   ],
   "source": [
    "# create a numpy 1d-array\n",
    "array = np.array([1, 2, 3,\n",
    "                  0, -1, -2])\n",
    " \n",
    "# find index of max element\n",
    "# in an array\n",
    "max_ele_index = np.argmax(array)\n",
    " \n",
    "# find max element in an array\n",
    "max_ele = array[max_ele_index]\n",
    " \n",
    "# find index of min element\n",
    "# in an array\n",
    "min_ele_index = np.argmin(array)\n",
    " \n",
    "# find min element in an array\n",
    "min_ele = array[min_ele_index]\n",
    " \n",
    "# show the outputs\n",
    "print(\"Given Array:\", array)\n",
    " \n",
    "print(\"Max Element:\", max_ele)\n",
    " \n",
    "print(\"Min Element:\", min_ele)\n"
   ]
  },
  {
   "cell_type": "code",
   "execution_count": 38,
   "id": "f8321a2a-10c4-41cc-8c41-32fa3884976d",
   "metadata": {},
   "outputs": [
    {
     "name": "stdout",
     "output_type": "stream",
     "text": [
      "[[ 1  2  3  4  5]\n",
      " [ 6  7  8  9 10]\n",
      " [11 12 13 14 15]\n",
      " [16 17 18 19 20]]\n",
      "True\n",
      "False\n",
      "False\n",
      "False\n"
     ]
    }
   ],
   "source": [
    "import numpy \n",
    "  \n",
    "# create numpy array \n",
    "arr = numpy.array([[1, 2, 3, 4, 5], \n",
    "                   [6, 7, 8, 9, 10], \n",
    "                   [11, 12, 13, 14, 15], \n",
    "                   [16, 17, 18, 19, 20] \n",
    "                   ]) \n",
    "  \n",
    "# view array \n",
    "print(arr) \n",
    "  \n",
    "# check for some lists \n",
    "print([1, 2, 3, 4, 5] in arr.tolist()) \n",
    "print([16, 17, 20, 19, 18] in arr.tolist()) \n",
    "print([3, 2, 5, -4, 5] in arr.tolist()) \n",
    "print([11, 12, 13, 14, 16] in arr.tolist()) "
   ]
  },
  {
   "cell_type": "code",
   "execution_count": 18,
   "id": "9ef2a7e1-ac7d-482e-ac2f-1b53a1d54366",
   "metadata": {},
   "outputs": [
    {
     "name": "stdout",
     "output_type": "stream",
     "text": [
      "Given Array: [ 1  2  3  0 -1 -2]\n",
      "Max Element: 3\n",
      "Min Element: -2\n"
     ]
    }
   ],
   "source": [
    "import numpy as np\n",
    " \n",
    "# create a numpy 1d-array\n",
    "array = np.array([1, 2, 3, \n",
    "                  0, -1, -2])\n",
    " \n",
    "# find max element in an array\n",
    "max_ele = np.amax(array)\n",
    " \n",
    "# find min element in an array\n",
    "min_ele = np.amin(array)\n",
    " \n",
    " \n",
    "# show the outputs\n",
    "print(\"Given Array:\", array)\n",
    " \n",
    "print(\"Max Element:\", max_ele)\n",
    " \n",
    "print(\"Min Element:\", min_ele)\n"
   ]
  },
  {
   "cell_type": "code",
   "execution_count": 20,
   "id": "f477023e-9730-472c-9d44-2998eeed2f13",
   "metadata": {},
   "outputs": [
    {
     "name": "stdout",
     "output_type": "stream",
     "text": [
      "4\n"
     ]
    }
   ],
   "source": [
    "import numpy \n",
    "  \n",
    "# create numpy array \n",
    "arr = numpy.array([[2, 8, 9, 4],  \n",
    "                   [9, 4, 9, 4], \n",
    "                   [4, 5, 9, 7], \n",
    "                   [2, 9, 4, 3]]) \n",
    "  \n",
    "# Counting sequence \n",
    "output = repr(arr).count(\"9, 4\") \n",
    "  \n",
    "# view output \n",
    "print(output) \n"
   ]
  },
  {
   "cell_type": "code",
   "execution_count": 26,
   "id": "f548da6e-4123-4018-b51b-20bca4d8e992",
   "metadata": {},
   "outputs": [
    {
     "name": "stdout",
     "output_type": "stream",
     "text": [
      "Original array:\n",
      "[1 2 3 4 5 1 2 1 1 1]\n",
      "[0 5 2 1 1 1]\n",
      "Most frequent value in the above array:\n",
      "1\n"
     ]
    }
   ],
   "source": [
    "# create array \n",
    "x = np.array([1,2,3,4,5,1,2,1,1,1]) \n",
    "print(\"Original array:\") \n",
    "print(x) \n",
    "\n",
    "print(np.bincount(x))\n",
    "\n",
    "print(\"Most frequent value in the above array:\") \n",
    "print(np.bincount(x).argmax())\n"
   ]
  },
  {
   "cell_type": "code",
   "execution_count": 28,
   "id": "a7973037-aec3-4ee0-b60e-1a5d0ba425a0",
   "metadata": {},
   "outputs": [
    {
     "name": "stdout",
     "output_type": "stream",
     "text": [
      "Original array:\n",
      "[1 1 1 2 3 4 2 4 3 3]\n",
      "Most frequent value in above array\n",
      "1 3 "
     ]
    }
   ],
   "source": [
    "import numpy as np \n",
    "  \n",
    "  \n",
    "x = np.array([1, 1, 1, 2, 3, 4, 2, 4, 3, 3, ]) \n",
    "print(\"Original array:\") \n",
    "print(x) \n",
    "  \n",
    "print(\"Most frequent value in above array\") \n",
    "y = np.bincount(x) \n",
    "maximum = max(y) \n",
    "  \n",
    "for i in range(len(y)): \n",
    "    if y[i] == maximum: \n",
    "        print(i, end=\" \") "
   ]
  },
  {
   "cell_type": "markdown",
   "id": "c62af14e-705a-4850-b56d-81709551496e",
   "metadata": {},
   "source": [
    "## 2nd Note"
   ]
  },
  {
   "cell_type": "code",
   "execution_count": 44,
   "id": "81bad644-79d6-467f-8012-65d4741a8179",
   "metadata": {},
   "outputs": [
    {
     "name": "stdout",
     "output_type": "stream",
     "text": [
      "id of arr 2871719242672\n",
      "id of v 2871719245072\n",
      "original array-  [12  4  6  8 10]\n",
      "view-  [12  4  6  8 10]\n"
     ]
    }
   ],
   "source": [
    "import numpy as np  \n",
    "# creating array  \n",
    "arr = np.array([2, 4, 6, 8, 10])  \n",
    "# creating view  \n",
    "v = arr.view()  \n",
    "# both arr and v have different id  \n",
    "print(\"id of arr\", id(arr))  \n",
    "print(\"id of v\", id(v))  \n",
    "# changing original array  \n",
    "# will effect view  \n",
    "arr[0] = 12\n",
    "# printing array and view  \n",
    "print(\"original array- \", arr)  \n",
    "print(\"view- \", v)"
   ]
  },
  {
   "cell_type": "code",
   "execution_count": 62,
   "id": "cf9fec2c-ca95-4e56-9ec3-2edf24661f8d",
   "metadata": {},
   "outputs": [
    {
     "name": "stdout",
     "output_type": "stream",
     "text": [
      "id of arr 2871719247376\n",
      "id of c 2871719246704\n",
      "original array-  [12  4  6  8 10]\n",
      "copy-  [ 2  4  6  8 10]\n"
     ]
    }
   ],
   "source": [
    "import numpy as np \n",
    "  \n",
    "# creating array \n",
    "arr = np.array([2, 4, 6, 8, 10]) \n",
    "  \n",
    "# creating copy of array \n",
    "c = arr.copy() \n",
    "  \n",
    "# both arr and c have different id \n",
    "print(\"id of arr\", id(arr)) \n",
    "print(\"id of c\", id(c)) \n",
    "  \n",
    "# changing original array \n",
    "# this will not effect copy \n",
    "arr[0] = 12\n",
    "# c[0]=10\n",
    "  \n",
    "# printing array and copy \n",
    "print(\"original array- \", arr) \n",
    "print(\"copy- \", c)"
   ]
  },
  {
   "cell_type": "code",
   "execution_count": 56,
   "id": "2483203a-9b0a-455b-97fc-56a133c0267e",
   "metadata": {},
   "outputs": [
    {
     "name": "stdout",
     "output_type": "stream",
     "text": [
      "id of arr 2871719246992\n",
      "id of nc 2871719246992\n",
      "original array-  [ 2  4  6  8 10]\n",
      "assigned array-  [ 2  4  6  8 10]\n"
     ]
    }
   ],
   "source": [
    "import numpy as np \n",
    "  \n",
    "# creating array \n",
    "arr = np.array([2, 4, 6, 8, 10]) \n",
    "  \n",
    "# assigning arr to nc \n",
    "nc = arr \n",
    "  \n",
    "# both arr and nc have same id \n",
    "print(\"id of arr\", id(arr)) \n",
    "print(\"id of nc\", id(nc)) \n",
    "  \n",
    "# updating nc \n",
    "nc[0]= 12\n",
    "\n",
    "#updating arr\n",
    "# arr[0]=10\n",
    "  \n",
    "# printing the values \n",
    "print(\"original array- \", arr) \n",
    "print(\"assigned array- \", nc) \n"
   ]
  },
  {
   "cell_type": "code",
   "execution_count": 66,
   "id": "1dc2db8b-d601-424c-9e51-eedf2c9d323a",
   "metadata": {},
   "outputs": [
    {
     "name": "stdout",
     "output_type": "stream",
     "text": [
      "Original Array :  [1 8 3 3 5]\n",
      "Array after appending :  [1 8 3 3 5 7 8 9]\n"
     ]
    }
   ],
   "source": [
    "# importing the module\n",
    "import numpy as np\n",
    " \n",
    "# creating an array\n",
    "arr = np.array([1, 8, 3, 3, 5])\n",
    "print('Original Array : ', arr)\n",
    " \n",
    "# appending to the array\n",
    "arr = np.append(arr, [7,8,9])\n",
    "print('Array after appending : ', arr)\n"
   ]
  },
  {
   "cell_type": "code",
   "execution_count": 74,
   "id": "3de07f04-7ca5-4060-b71f-77100547a05d",
   "metadata": {},
   "outputs": [
    {
     "name": "stdout",
     "output_type": "stream",
     "text": [
      "First array is :  [1 2 3 4]\n",
      "Second array is :  [4 5 6]\n",
      "Array after appending :  [1 8 3 3 5 7 8 9]\n"
     ]
    }
   ],
   "source": [
    "import numpy as np\n",
    "\n",
    "#creating a 1st array\n",
    "arr1 = np.array([1,2,3,4])\n",
    "print('First array is : ', arr1)\n",
    "\n",
    "#creating second array\n",
    "arr2= np.array([4,5,6])\n",
    "print('Second array is : ', arr2)\n",
    "\n",
    "# appending arr2 to arr1\n",
    "arr3 = np.append(arr1,arr2)\n",
    "print('Array after appending : ', arr)"
   ]
  },
  {
   "cell_type": "code",
   "execution_count": 112,
   "id": "4cdf210c-7063-49ad-9383-4f894f993d39",
   "metadata": {},
   "outputs": [
    {
     "name": "stdout",
     "output_type": "stream",
     "text": [
      "1st array [[1 2 3]\n",
      " [4 5 6]]\n",
      "shape of array (2, 3)\n",
      "1st array [[7 8 9]]\n",
      "shape of array (1, 3)\n",
      "[[1 2 3]\n",
      " [4 5 6]\n",
      " [7 8 9]]\n",
      "Shape of array (3, 3)\n"
     ]
    }
   ],
   "source": [
    "#concar 2 array with different dims\n",
    "arr1 = np.array([[1,2,3],[4,5,6]])\n",
    "print(\"1st array\",arr1)\n",
    "print(\"shape of array\",arr1.shape)\n",
    "\n",
    "arr2 = np.array([[7,8,9]])\n",
    "print(\"1st array\",arr2)\n",
    "print(\"shape of array\",arr2.shape)\n",
    "\n",
    "arr3 = np.concatenate((arr1, arr2), axis=0)\n",
    "print(arr3)\n",
    "print(\"Shape of array\",arr3.shape)"
   ]
  },
  {
   "cell_type": "code",
   "execution_count": 114,
   "id": "82f187c1-8019-4607-982c-096e1dfe4133",
   "metadata": {},
   "outputs": [
    {
     "name": "stdout",
     "output_type": "stream",
     "text": [
      "[[1 2]\n",
      " [3 4]\n",
      " [5 6]]\n"
     ]
    }
   ],
   "source": [
    "# importing the module\n",
    "import numpy as np\n",
    " \n",
    "arr1 = np.array([[1, 2], [3, 4]])\n",
    "arr2 = np.array([[5, 6]])\n",
    " \n",
    "combined = np.concatenate((arr1, arr2), axis=0)\n",
    "print(combined)\n"
   ]
  },
  {
   "cell_type": "markdown",
   "id": "bfb493dd-05e9-42fc-b51f-9c1705be16b7",
   "metadata": {},
   "source": [
    "## 3rd Note"
   ]
  },
  {
   "cell_type": "code",
   "execution_count": 129,
   "id": "531aa4be-530b-448d-9b77-4b2ecba23ce4",
   "metadata": {},
   "outputs": [
    {
     "name": "stdout",
     "output_type": "stream",
     "text": [
      "Matrix x  [[1 3]\n",
      " [4 5]]\n",
      "Matrix y  [[7 5]\n",
      " [9 9]]\n",
      "The element wise addition of matrix is : \n",
      "[[ 8  8]\n",
      " [13 14]]\n",
      "The element wise subtraction of matrix is : \n",
      "[[-6 -2]\n",
      " [-5 -4]]\n",
      "The element wise division of matrix is : \n",
      "[[0.14285714 0.6       ]\n",
      " [0.44444444 0.55555556]]\n",
      "The element wise multiplication of matrix is : \n",
      "[[ 7 15]\n",
      " [36 45]]\n",
      "The product of matrices is : \n",
      "[[34 32]\n",
      " [73 65]]\n"
     ]
    }
   ],
   "source": [
    "import numpy as np\n",
    "\n",
    "# initializing matrices \n",
    "x = np.array([[1, 3], [4, 5]]) \n",
    "y = np.array([[7, 5], [9, 9]]) \n",
    "\n",
    "print(\"Matrix x \",x)\n",
    "print(\"Matrix y \",y)\n",
    "# using add() to add matrices \n",
    "print (\"The element wise addition of matrix is : \") \n",
    "print (np.add(x,y))\n",
    "\n",
    "# using subtract() to subtract matrices \n",
    "print (\"The element wise subtraction of matrix is : \") \n",
    "print (np.subtract(x,y))\n",
    "\n",
    "# using divide() to divide matrices \n",
    "print (\"The element wise division of matrix is : \") \n",
    "print (np.divide(x,y))\n",
    "\n",
    "# using multiply() to multiply matrices element wise \n",
    "print (\"The element wise multiplication of matrix is : \") \n",
    "print (numpy.multiply(x,y)) \n",
    "\n",
    "# using dot() to multiply matrices \n",
    "print (\"The product of matrices is : \") \n",
    "print (numpy.dot(x,y))"
   ]
  },
  {
   "cell_type": "code",
   "execution_count": null,
   "id": "aaac3f3c-a1fb-40fc-80f7-33f8e62b900a",
   "metadata": {},
   "outputs": [],
   "source": []
  }
 ],
 "metadata": {
  "kernelspec": {
   "display_name": "Python 3 (ipykernel)",
   "language": "python",
   "name": "python3"
  },
  "language_info": {
   "codemirror_mode": {
    "name": "ipython",
    "version": 3
   },
   "file_extension": ".py",
   "mimetype": "text/x-python",
   "name": "python",
   "nbconvert_exporter": "python",
   "pygments_lexer": "ipython3",
   "version": "3.12.4"
  }
 },
 "nbformat": 4,
 "nbformat_minor": 5
}
