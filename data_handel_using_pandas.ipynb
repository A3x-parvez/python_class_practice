{
 "cells": [
  {
   "cell_type": "code",
   "execution_count": 2,
   "id": "27c93600-611a-4f7b-8841-57fac855d7b5",
   "metadata": {},
   "outputs": [],
   "source": [
    "import pandas as pd\n",
    "import numpy as np"
   ]
  },
  {
   "cell_type": "code",
   "execution_count": 4,
   "id": "0cf8f628-8dd1-4240-b3db-aa09bcf359ca",
   "metadata": {},
   "outputs": [],
   "source": [
    "arr=np.array([10,15,18,22])"
   ]
  },
  {
   "cell_type": "code",
   "execution_count": 8,
   "id": "b85f7673-8c97-4431-9178-e4d7de74c416",
   "metadata": {},
   "outputs": [],
   "source": [
    "s=pd.Series(arr)"
   ]
  },
  {
   "cell_type": "code",
   "execution_count": 10,
   "id": "22a3c943-6e33-4ec7-959a-1d9389639947",
   "metadata": {},
   "outputs": [
    {
     "data": {
      "text/plain": [
       "0    10\n",
       "1    15\n",
       "2    18\n",
       "3    22\n",
       "dtype: int32"
      ]
     },
     "execution_count": 10,
     "metadata": {},
     "output_type": "execute_result"
    }
   ],
   "source": [
    "s"
   ]
  },
  {
   "cell_type": "code",
   "execution_count": null,
   "id": "e38ab55d-9672-4da5-90a6-c4924d1d5d0a",
   "metadata": {},
   "outputs": [],
   "source": []
  },
  {
   "cell_type": "markdown",
   "id": "c4f6cb1c-845b-4c94-a529-c066ab64a268",
   "metadata": {},
   "source": [
    "#custom index"
   ]
  },
  {
   "cell_type": "code",
   "execution_count": 17,
   "id": "61dbe1f3-8471-4230-a2f1-75ca88f4ae87",
   "metadata": {},
   "outputs": [],
   "source": [
    "import pandas as pd\n",
    "import numpy as np"
   ]
  },
  {
   "cell_type": "code",
   "execution_count": 19,
   "id": "6d2b94af-cb6b-41f8-a893-520b95dadacf",
   "metadata": {},
   "outputs": [],
   "source": [
    "arr=np.array(['a','b','c','d'])"
   ]
  },
  {
   "cell_type": "code",
   "execution_count": 21,
   "id": "8514327a-ee03-4691-8530-7e7583ef568c",
   "metadata": {},
   "outputs": [],
   "source": [
    "df=pd.Series(arr,index=['1st','2nd','3rd','4th'])"
   ]
  },
  {
   "cell_type": "code",
   "execution_count": 23,
   "id": "42819b4f-2a13-4c58-aaf3-dcc20a1ec7a9",
   "metadata": {},
   "outputs": [
    {
     "data": {
      "text/plain": [
       "1st    a\n",
       "2nd    b\n",
       "3rd    c\n",
       "4th    d\n",
       "dtype: object"
      ]
     },
     "execution_count": 23,
     "metadata": {},
     "output_type": "execute_result"
    }
   ],
   "source": [
    "df"
   ]
  },
  {
   "cell_type": "code",
   "execution_count": null,
   "id": "bc0a290e-b246-4139-bf4e-f8f083b8c089",
   "metadata": {},
   "outputs": [],
   "source": []
  }
 ],
 "metadata": {
  "kernelspec": {
   "display_name": "Python 3 (ipykernel)",
   "language": "python",
   "name": "python3"
  },
  "language_info": {
   "codemirror_mode": {
    "name": "ipython",
    "version": 3
   },
   "file_extension": ".py",
   "mimetype": "text/x-python",
   "name": "python",
   "nbconvert_exporter": "python",
   "pygments_lexer": "ipython3",
   "version": "3.12.4"
  }
 },
 "nbformat": 4,
 "nbformat_minor": 5
}
